{
 "cells": [
  {
   "cell_type": "code",
   "execution_count": 9,
   "id": "c35e1b97-5e6c-4a64-8fae-57c347e9f769",
   "metadata": {},
   "outputs": [],
   "source": [
    "#Starter code. Do NOT modify this cell\n",
    "import pandas as pd\n",
    "import numpy as np\n",
    "\n",
    "# Read in dataset\n",
    "df = pd.read_csv('cars.csv',delimiter=';')\n",
    "\n",
    "# Convert each column to an np.array\n",
    "car = df.Car.to_numpy()\n",
    "mpg = df.MPG.to_numpy()\n",
    "cylinders = df.Cylinders.to_numpy()\n",
    "displacement = df.Displacement.to_numpy()\n",
    "horsepower = df.Horsepower.to_numpy()\n",
    "weight = df.Weight.to_numpy()\n",
    "acceleration = df.Acceleration.to_numpy()\n",
    "model = df.Model.to_numpy()\n",
    "origin = df.Origin.to_numpy()\n",
    "\n",
    "# create an array of headers\n",
    "headers = np.array(['Car', 'MPG', 'Cylinders', 'Displacement', 'Horsepower', 'Weight','Acceleration', 'Model', 'Origin'])"
   ]
  },
  {
   "cell_type": "code",
   "execution_count": 11,
   "id": "c812aa92-1108-4678-b5d8-bd884e2f102d",
   "metadata": {},
   "outputs": [
    {
     "ename": "NameError",
     "evalue": "name 'Origin' is not defined",
     "output_type": "error",
     "traceback": [
      "\u001b[1;31m---------------------------------------------------------------------------\u001b[0m",
      "\u001b[1;31mNameError\u001b[0m                                 Traceback (most recent call last)",
      "Cell \u001b[1;32mIn[11], line 2\u001b[0m\n\u001b[0;32m      1\u001b[0m \u001b[38;5;66;03m#Q1: Car = str, MPG = int, Horsepower = int, Origin = str. \u001b[39;00m\n\u001b[1;32m----> 2\u001b[0m \u001b[38;5;28mprint\u001b[39m(df, \u001b[43mOrigin\u001b[49m)\n",
      "\u001b[1;31mNameError\u001b[0m: name 'Origin' is not defined"
     ]
    }
   ],
   "source": [
    "#Q1: Car = str, MPG = int, Horsepower = int, Origin = str. \n",
    "print(df, \"Origin\")"
   ]
  },
  {
   "cell_type": "code",
   "execution_count": null,
   "id": "e589a561-09ae-493d-9b4a-c86abc546306",
   "metadata": {},
   "outputs": [],
   "source": [
    "#Q2: \n",
    "We use np because its easier to call when used in code, same as pandas as pd. "
   ]
  },
  {
   "cell_type": "code",
   "execution_count": 65,
   "id": "76e0988e-7d36-4852-a699-0ba3639ef466",
   "metadata": {},
   "outputs": [
    {
     "name": "stdout",
     "output_type": "stream",
     "text": [
      "                           Car\n",
      "0    Chevrolet Chevelle Malibu\n",
      "1            Buick Skylark 320\n",
      "2           Plymouth Satellite\n",
      "3                AMC Rebel SST\n",
      "4                  Ford Torino\n",
      "..                         ...\n",
      "401            Ford Mustang GL\n",
      "402          Volkswagen Pickup\n",
      "403              Dodge Rampage\n",
      "404                Ford Ranger\n",
      "405                 Chevy S-10\n",
      "\n",
      "[406 rows x 1 columns]\n"
     ]
    }
   ],
   "source": [
    "#Q3: 406 rows x 1 columnns for each variable. \n",
    "print(df[[\"Car\"]])"
   ]
  },
  {
   "cell_type": "code",
   "execution_count": 154,
   "id": "9570f532-1f74-41ed-b4ab-3c4d62f727c3",
   "metadata": {},
   "outputs": [
    {
     "data": {
      "text/plain": [
       "Horsepower    42033.0\n",
       "dtype: float64"
      ]
     },
     "execution_count": 154,
     "metadata": {},
     "output_type": "execute_result"
    }
   ],
   "source": [
    "#Q4a:\n",
    "import math\n",
    "import statistics\n",
    "from scipy import stats\n",
    "\n",
    "df[[\"Horsepower\"]].sum()"
   ]
  },
  {
   "cell_type": "code",
   "execution_count": 57,
   "id": "a18661c9-e8ad-45a6-8d80-fb096fc9f5d6",
   "metadata": {},
   "outputs": [
    {
     "data": {
      "text/plain": [
       "Horsepower    0.0\n",
       "dtype: float64"
      ]
     },
     "execution_count": 57,
     "metadata": {},
     "output_type": "execute_result"
    }
   ],
   "source": [
    "#Q4b:\n",
    "df[[\"Horsepower\"]].min()"
   ]
  },
  {
   "cell_type": "code",
   "execution_count": 58,
   "id": "7a795c7f-c487-4fca-854e-c28545a4c192",
   "metadata": {},
   "outputs": [
    {
     "data": {
      "text/plain": [
       "Horsepower    230.0\n",
       "dtype: float64"
      ]
     },
     "execution_count": 58,
     "metadata": {},
     "output_type": "execute_result"
    }
   ],
   "source": [
    "#Q4c:\n",
    "df[[\"Horsepower\"]].max()"
   ]
  },
  {
   "cell_type": "code",
   "execution_count": 61,
   "id": "3d4fe526-cfed-4ab0-88bc-462e601645c8",
   "metadata": {},
   "outputs": [
    {
     "data": {
      "text/plain": [
       "Horsepower    93.5\n",
       "dtype: float64"
      ]
     },
     "execution_count": 61,
     "metadata": {},
     "output_type": "execute_result"
    }
   ],
   "source": [
    "#Q4d:\n",
    "df[[\"Horsepower\"]].median()"
   ]
  },
  {
   "cell_type": "code",
   "execution_count": 6,
   "id": "bb9f3818-ed02-4769-b85c-1c58f91b882b",
   "metadata": {},
   "outputs": [
    {
     "ename": "NameError",
     "evalue": "name 'df' is not defined",
     "output_type": "error",
     "traceback": [
      "\u001b[1;31m---------------------------------------------------------------------------\u001b[0m",
      "\u001b[1;31mNameError\u001b[0m                                 Traceback (most recent call last)",
      "Cell \u001b[1;32mIn[6], line 2\u001b[0m\n\u001b[0;32m      1\u001b[0m \u001b[38;5;66;03m#Q4e:\u001b[39;00m\n\u001b[1;32m----> 2\u001b[0m \u001b[43mdf\u001b[49m[[\u001b[38;5;124m\"\u001b[39m\u001b[38;5;124mHorsepower\u001b[39m\u001b[38;5;124m\"\u001b[39m]]\u001b[38;5;241m.\u001b[39mmode()\n",
      "\u001b[1;31mNameError\u001b[0m: name 'df' is not defined"
     ]
    }
   ],
   "source": [
    "#Q4e:\n",
    "df[[\"Horsepower\"]].mode()"
   ]
  },
  {
   "cell_type": "code",
   "execution_count": 68,
   "id": "99eccbee-c09d-4e0a-b665-d7aeaf0d177e",
   "metadata": {},
   "outputs": [
    {
     "name": "stdout",
     "output_type": "stream",
     "text": [
      "[3 6 9]\n"
     ]
    }
   ],
   "source": [
    "#Q5: \n",
    "select_more = np.array([[1,2,3],\n",
    "                      [4,5,6],\n",
    "                      [7,8,9]])\n",
    "last_elements = select_more[:, -1]\n",
    "\n",
    "print(last_elements)"
   ]
  },
  {
   "cell_type": "code",
   "execution_count": 153,
   "id": "89f29927-9fac-4123-9133-288c2783546c",
   "metadata": {},
   "outputs": [
    {
     "name": "stderr",
     "output_type": "stream",
     "text": [
      "c:\\users\\steven\\appdata\\local\\programs\\python\\python39\\lib\\site-packages\\pandas\\core\\internals\\blocks.py:393: RuntimeWarning: divide by zero encountered in log\n",
      "  result = func(self.values, **kwargs)\n"
     ]
    },
    {
     "data": {
      "text/html": [
       "<div>\n",
       "<style scoped>\n",
       "    .dataframe tbody tr th:only-of-type {\n",
       "        vertical-align: middle;\n",
       "    }\n",
       "\n",
       "    .dataframe tbody tr th {\n",
       "        vertical-align: top;\n",
       "    }\n",
       "\n",
       "    .dataframe thead th {\n",
       "        text-align: right;\n",
       "    }\n",
       "</style>\n",
       "<table border=\"1\" class=\"dataframe\">\n",
       "  <thead>\n",
       "    <tr style=\"text-align: right;\">\n",
       "      <th></th>\n",
       "      <th>MPG</th>\n",
       "    </tr>\n",
       "  </thead>\n",
       "  <tbody>\n",
       "    <tr>\n",
       "      <th>0</th>\n",
       "      <td>2.890372</td>\n",
       "    </tr>\n",
       "    <tr>\n",
       "      <th>1</th>\n",
       "      <td>2.708050</td>\n",
       "    </tr>\n",
       "    <tr>\n",
       "      <th>2</th>\n",
       "      <td>2.890372</td>\n",
       "    </tr>\n",
       "    <tr>\n",
       "      <th>3</th>\n",
       "      <td>2.772589</td>\n",
       "    </tr>\n",
       "    <tr>\n",
       "      <th>4</th>\n",
       "      <td>2.833213</td>\n",
       "    </tr>\n",
       "    <tr>\n",
       "      <th>...</th>\n",
       "      <td>...</td>\n",
       "    </tr>\n",
       "    <tr>\n",
       "      <th>401</th>\n",
       "      <td>3.295837</td>\n",
       "    </tr>\n",
       "    <tr>\n",
       "      <th>402</th>\n",
       "      <td>3.784190</td>\n",
       "    </tr>\n",
       "    <tr>\n",
       "      <th>403</th>\n",
       "      <td>3.465736</td>\n",
       "    </tr>\n",
       "    <tr>\n",
       "      <th>404</th>\n",
       "      <td>3.332205</td>\n",
       "    </tr>\n",
       "    <tr>\n",
       "      <th>405</th>\n",
       "      <td>3.433987</td>\n",
       "    </tr>\n",
       "  </tbody>\n",
       "</table>\n",
       "<p>406 rows × 1 columns</p>\n",
       "</div>"
      ],
      "text/plain": [
       "          MPG\n",
       "0    2.890372\n",
       "1    2.708050\n",
       "2    2.890372\n",
       "3    2.772589\n",
       "4    2.833213\n",
       "..        ...\n",
       "401  3.295837\n",
       "402  3.784190\n",
       "403  3.465736\n",
       "404  3.332205\n",
       "405  3.433987\n",
       "\n",
       "[406 rows x 1 columns]"
      ]
     },
     "execution_count": 153,
     "metadata": {},
     "output_type": "execute_result"
    }
   ],
   "source": [
    "#Q6: \n",
    "np.log(df[['MPG']])"
   ]
  },
  {
   "cell_type": "code",
   "execution_count": 5,
   "id": "fe7435bb-21b7-42ff-bb7e-66dc76288599",
   "metadata": {},
   "outputs": [
    {
     "ename": "NameError",
     "evalue": "name 'df' is not defined",
     "output_type": "error",
     "traceback": [
      "\u001b[1;31m---------------------------------------------------------------------------\u001b[0m",
      "\u001b[1;31mNameError\u001b[0m                                 Traceback (most recent call last)",
      "Cell \u001b[1;32mIn[5], line 2\u001b[0m\n\u001b[0;32m      1\u001b[0m \u001b[38;5;66;03m#Q7:\u001b[39;00m\n\u001b[1;32m----> 2\u001b[0m Origin \u001b[38;5;241m=\u001b[39m \u001b[43mdf\u001b[49m[\u001b[38;5;124m'\u001b[39m\u001b[38;5;124mOrigin\u001b[39m\u001b[38;5;124m'\u001b[39m]\n\u001b[0;32m      4\u001b[0m ba \u001b[38;5;241m=\u001b[39m Origin \u001b[38;5;241m==\u001b[39m \u001b[38;5;124m'\u001b[39m\u001b[38;5;124mUS\u001b[39m\u001b[38;5;124m'\u001b[39m\n\u001b[0;32m      6\u001b[0m \u001b[38;5;28mprint\u001b[39m(ba)\n",
      "\u001b[1;31mNameError\u001b[0m: name 'df' is not defined"
     ]
    }
   ],
   "source": [
    "#Q7:\n",
    "Origin = df['Origin']\n",
    "\n",
    "ba = Origin == 'US'\n",
    "\n",
    "print(ba)"
   ]
  },
  {
   "cell_type": "code",
   "execution_count": 3,
   "id": "c16870ec-4ab7-4b1b-8e8f-6aae5defd62e",
   "metadata": {},
   "outputs": [
    {
     "ename": "NameError",
     "evalue": "name 'df' is not defined",
     "output_type": "error",
     "traceback": [
      "\u001b[1;31m---------------------------------------------------------------------------\u001b[0m",
      "\u001b[1;31mNameError\u001b[0m                                 Traceback (most recent call last)",
      "Cell \u001b[1;32mIn[3], line 2\u001b[0m\n\u001b[0;32m      1\u001b[0m \u001b[38;5;66;03m#Q8:\u001b[39;00m\n\u001b[1;32m----> 2\u001b[0m \u001b[43mdf\u001b[49m[\u001b[38;5;124m'\u001b[39m\u001b[38;5;124mCar\u001b[39m\u001b[38;5;124m'\u001b[39m]\n",
      "\u001b[1;31mNameError\u001b[0m: name 'df' is not defined"
     ]
    }
   ],
   "source": [
    "#Q8:\n",
    "df['Car']"
   ]
  },
  {
   "cell_type": "code",
   "execution_count": 4,
   "id": "891ee317-0fdb-40c8-a65a-c9b392f2c1e3",
   "metadata": {},
   "outputs": [
    {
     "ename": "NameError",
     "evalue": "name 'df' is not defined",
     "output_type": "error",
     "traceback": [
      "\u001b[1;31m---------------------------------------------------------------------------\u001b[0m",
      "\u001b[1;31mNameError\u001b[0m                                 Traceback (most recent call last)",
      "Cell \u001b[1;32mIn[4], line 2\u001b[0m\n\u001b[0;32m      1\u001b[0m \u001b[38;5;66;03m#Q9a:\u001b[39;00m\n\u001b[1;32m----> 2\u001b[0m Origin \u001b[38;5;241m=\u001b[39m \u001b[43mdf\u001b[49m[\u001b[38;5;124m'\u001b[39m\u001b[38;5;124mOrigin\u001b[39m\u001b[38;5;124m'\u001b[39m]\n\u001b[0;32m      4\u001b[0m ba \u001b[38;5;241m=\u001b[39m Origin \u001b[38;5;241m==\u001b[39m \u001b[38;5;124m'\u001b[39m\u001b[38;5;124mEurope\u001b[39m\u001b[38;5;124m'\u001b[39m\n\u001b[0;32m      6\u001b[0m \u001b[38;5;28mprint\u001b[39m(ba)\n",
      "\u001b[1;31mNameError\u001b[0m: name 'df' is not defined"
     ]
    }
   ],
   "source": [
    "#Q9a:\n",
    "Origin = df['Origin']\n",
    "\n",
    "ba = Origin == 'Europe'\n",
    "\n",
    "print(ba)"
   ]
  },
  {
   "cell_type": "code",
   "execution_count": 87,
   "id": "07fb64a4-c83b-4bb1-9727-08017326fff0",
   "metadata": {},
   "outputs": [
    {
     "data": {
      "text/plain": [
       "Horsepower    103.529557\n",
       "dtype: float64"
      ]
     },
     "execution_count": 87,
     "metadata": {},
     "output_type": "execute_result"
    }
   ],
   "source": [
    "#Q9b:\n",
    "df[[\"Horsepower\"]].mean()"
   ]
  },
  {
   "cell_type": "code",
   "execution_count": 141,
   "id": "ec81f7fe-693c-472d-b447-44470a723a5a",
   "metadata": {},
   "outputs": [
    {
     "name": "stdout",
     "output_type": "stream",
     "text": [
      "0      False\n",
      "1      False\n",
      "2      False\n",
      "3      False\n",
      "4      False\n",
      "       ...  \n",
      "401    False\n",
      "402    False\n",
      "403    False\n",
      "404    False\n",
      "405    False\n",
      "Name: Origin, Length: 406, dtype: bool\n",
      "Mean: 0.19458128078817735\n"
     ]
    }
   ],
   "source": [
    "#Q10: US on average has more. \n",
    "Origin = df['Origin']\n",
    "\n",
    "ba = Origin == 'Japan'\n",
    "\n",
    "print(ba)\n",
    "\n",
    "fd = ba[ba == True]\n",
    "\n",
    "mv = np.mean(ba)\n",
    "print(f\"Mean: {mv}\")"
   ]
  },
  {
   "cell_type": "code",
   "execution_count": 139,
   "id": "753f6248-0c73-4bdf-9e2d-e892a8b236f9",
   "metadata": {},
   "outputs": [
    {
     "name": "stdout",
     "output_type": "stream",
     "text": [
      "0       True\n",
      "1       True\n",
      "2       True\n",
      "3       True\n",
      "4       True\n",
      "       ...  \n",
      "401     True\n",
      "402    False\n",
      "403     True\n",
      "404     True\n",
      "405     True\n",
      "Name: Origin, Length: 406, dtype: bool\n",
      "Mean: 0.625615763546798\n"
     ]
    }
   ],
   "source": [
    "#Q10b: US on average has more. \n",
    "Origin = df['Origin']\n",
    "\n",
    "ba = Origin == 'US'\n",
    "\n",
    "print(ba)\n",
    "\n",
    "fd = ba[ba == True]\n",
    "\n",
    "mv = np.mean(ba)\n",
    "print(f\"Mean: {mv}\")"
   ]
  },
  {
   "cell_type": "code",
   "execution_count": 143,
   "id": "c527b4cb-e385-4a92-b997-fa20170f3862",
   "metadata": {},
   "outputs": [
    {
     "data": {
      "text/plain": [
       "array([[ 1.        , -0.78750994],\n",
       "       [-0.78750994,  1.        ]])"
      ]
     },
     "execution_count": 143,
     "metadata": {},
     "output_type": "execute_result"
    }
   ],
   "source": [
    "#Q11: The correlation coeffificient shows the relation between values in forms of +1 and -1.\n",
    "# This shows that as MPG goes up, weight goes down and vice versa. \n",
    "np.corrcoef(df[\"MPG\"], df[\"Weight\"])"
   ]
  }
 ],
 "metadata": {
  "kernelspec": {
   "display_name": "Python 3 (ipykernel)",
   "language": "python",
   "name": "python3"
  },
  "language_info": {
   "codemirror_mode": {
    "name": "ipython",
    "version": 3
   },
   "file_extension": ".py",
   "mimetype": "text/x-python",
   "name": "python",
   "nbconvert_exporter": "python",
   "pygments_lexer": "ipython3",
   "version": "3.9.1"
  }
 },
 "nbformat": 4,
 "nbformat_minor": 5
}
