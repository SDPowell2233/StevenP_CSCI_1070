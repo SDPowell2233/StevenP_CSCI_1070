{
 "cells": [
  {
   "cell_type": "code",
   "execution_count": null,
   "id": "c35e1b97-5e6c-4a64-8fae-57c347e9f769",
   "metadata": {},
   "outputs": [],
   "source": []
  }
 ],
 "metadata": {
  "kernelspec": {
   "display_name": "",
   "name": ""
  },
  "language_info": {
   "name": ""
  }
 },
 "nbformat": 4,
 "nbformat_minor": 5
}
