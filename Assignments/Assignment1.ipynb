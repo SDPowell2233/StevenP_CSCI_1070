{
 "cells": [
  {
   "cell_type": "code",
   "execution_count": null,
   "id": "e9ea707d-8431-4c22-a1b3-26194d818df6",
   "metadata": {},
   "outputs": [],
   "source": [
    "#Q1: After typing the specific function/object, use the tab button on the keyboard."
   ]
  },
  {
   "cell_type": "code",
   "execution_count": null,
   "id": "a094d004-aaf1-4ec7-baa0-ff75b2efcc39",
   "metadata": {},
   "outputs": [],
   "source": [
    "#Q2: You can find the data type of an object ion python using the \"type()\" function. One data type is \"int\", which can contain whole numbers such as\n",
    "#1, 20, etc. but not numbers with decimals like 1.23."
   ]
  },
  {
   "cell_type": "code",
   "execution_count": 8,
   "id": "7f6662a4-2b48-4192-a5ef-fd3df3db1a1b",
   "metadata": {},
   "outputs": [
    {
     "name": "stdout",
     "output_type": "stream",
     "text": [
      "yellow\n"
     ]
    }
   ],
   "source": [
    "#Q3: Assignment means to give a variable a specific value. \n",
    "x = \"yellow\"\n",
    "print(x)"
   ]
  },
  {
   "cell_type": "code",
   "execution_count": 7,
   "id": "545fbf95-582f-4ee9-8824-8f21b38cad56",
   "metadata": {},
   "outputs": [
    {
     "name": "stdout",
     "output_type": "stream",
     "text": [
      "['Record', 'Keyboard', 'Guitar']\n"
     ]
    }
   ],
   "source": [
    "#Q4: The best way to keep many items together is with a \"list\". \n",
    "list = [\"Record\", \"Keyboard\", \"Guitar\"]\n",
    "print(list)"
   ]
  },
  {
   "cell_type": "code",
   "execution_count": 6,
   "id": "077cbb2c-3b74-4b43-a933-a594772afeb6",
   "metadata": {},
   "outputs": [
    {
     "name": "stdout",
     "output_type": "stream",
     "text": [
      "('Louis', '1112223333', 'Francis', '4445556666')\n"
     ]
    }
   ],
   "source": [
    "#Q5: For an assortment of names/telephone numbers, I'd use a tuple. \n",
    "tuple = (\"Louis\", \"1112223333\", \"Francis\", \"4445556666\")\n",
    "print(tuple)"
   ]
  },
  {
   "cell_type": "code",
   "execution_count": null,
   "id": "cf3d2be6-10bc-4157-b0a5-bf559c8dadde",
   "metadata": {},
   "outputs": [],
   "source": [
    "#Q6: While the code will work, since list2 will become a direct copy of list1, any changes made to list1 will be made to list2."
   ]
  },
  {
   "cell_type": "code",
   "execution_count": null,
   "id": "1c922a5a-0df5-4d0e-be7e-a488575290ff",
   "metadata": {},
   "outputs": [],
   "source": [
    "#Q7: Truthy/Falsy are used for boolean values. Variables that are truthy will be true and values that are falsy will be false."
   ]
  },
  {
   "cell_type": "code",
   "execution_count": null,
   "id": "b6cb0e59-4fb0-4354-a336-63460feb6497",
   "metadata": {},
   "outputs": [],
   "source": [
    "#Q8: The difference between a dynamically and statistically typed langauges is that dynamic ones check the code at running time while statistical ones \n",
    "#check at compile time. Dynamic checks allow the code to run (but not complete) even if its incorrect, while statistic ones will fail. Python is a \n",
    "#dynamic language."
   ]
  },
  {
   "cell_type": "code",
   "execution_count": null,
   "id": "71283af7-c14d-46e0-85ac-5a79c721215e",
   "metadata": {},
   "outputs": [],
   "source": [
    "#Q9: eval() allows evaluations between variables and numbers. Ex. eval(x+5). len() returns the length of a list. Ex. print(len(list))"
   ]
  },
  {
   "cell_type": "code",
   "execution_count": 5,
   "id": "92d32fd7-95dc-47c0-8390-358b5fe80f4e",
   "metadata": {},
   "outputs": [
    {
     "name": "stdout",
     "output_type": "stream",
     "text": [
      "This is Even\n"
     ]
    }
   ],
   "source": [
    "#Q10: The operator that will help is the modulus operator (%). \n",
    "num = 4\n",
    "if (num % 2) == 0:\n",
    "    print(\"This is Even\")\n",
    "else:\n",
    "    print(\"This is Odd\")"
   ]
  },
  {
   "cell_type": "code",
   "execution_count": null,
   "id": "0736da0c-1b41-4481-a00f-ffad9f3dcdea",
   "metadata": {},
   "outputs": [],
   "source": [
    "#Q11: An expression in python is a combination of two or more values with different operators. Examples include addition and subtraction."
   ]
  },
  {
   "cell_type": "code",
   "execution_count": 3,
   "id": "e8b6be19-596b-4dbe-a8d3-732bb45136d9",
   "metadata": {},
   "outputs": [
    {
     "name": "stdout",
     "output_type": "stream",
     "text": [
      "foo is greater than bar\n"
     ]
    }
   ],
   "source": [
    "#Q12: \n",
    "foo = 77\n",
    "bar = 38\n",
    "if foo > bar: \n",
    "    print(\"foo is greater than bar\")\n"
   ]
  },
  {
   "cell_type": "code",
   "execution_count": 58,
   "id": "594332e7-f663-4b76-9e4d-e0c98f46ec5e",
   "metadata": {},
   "outputs": [
    {
     "name": "stdout",
     "output_type": "stream",
     "text": [
      "This is odd\n",
      "This is even\n",
      "This is odd\n",
      "Found it!\n",
      "This is even\n",
      "This is odd\n",
      "This is even\n",
      "This is odd\n",
      "This is even\n",
      "This is odd\n"
     ]
    }
   ],
   "source": [
    "#Q13:\n",
    "my_list = [1,2,3,4,5,6,7,8,9]\n",
    "for i in my_list:\n",
    "    if (i % 2) == 0:\n",
    "        print(\"This is even\")\n",
    "    elif (i % 2) == 1:\n",
    "        print(\"This is odd\")\n",
    "    if (i == 3):\n",
    "        print(\"Found it!\")\n",
    "    "
   ]
  },
  {
   "cell_type": "code",
   "execution_count": 13,
   "id": "b7f933ea-4538-459c-89a6-c15c872ddc4e",
   "metadata": {},
   "outputs": [
    {
     "name": "stdout",
     "output_type": "stream",
     "text": [
      "x is greater than y\n",
      "z is greater than or equal to b\n"
     ]
    }
   ],
   "source": [
    "#Q14: The greater than equal to operator is >=.\n",
    "x = 67\n",
    "y = 21\n",
    "if x >= y:\n",
    "    print(\"x is greater than y\")\n",
    "\n",
    "z = 22\n",
    "b = 22\n",
    "if z >= b:\n",
    "    print(\"z is greater than or equal to b\")"
   ]
  },
  {
   "cell_type": "code",
   "execution_count": 15,
   "id": "15a9e2d1-b9a5-4e3a-ad68-4ed3781e34b2",
   "metadata": {},
   "outputs": [
    {
     "name": "stdout",
     "output_type": "stream",
     "text": [
      "7\n"
     ]
    }
   ],
   "source": [
    "#Q15:The floored division operator is //, it will return the product of a division equation without remainder. \n",
    "x = 15\n",
    "y = 2 \n",
    "print(x // y)"
   ]
  },
  {
   "cell_type": "code",
   "execution_count": 29,
   "id": "e921f0f5-d25c-4ffa-afb8-753b2ca7521f",
   "metadata": {},
   "outputs": [],
   "source": [
    "#Q16: There cannot be a 2 in front of the \"cars\" variable, the code thinks its an integer. However, if you place it at the end it will work. \n",
    "#2cars = ('Ferarri', 'Mustang')\n",
    "cars2 = ('Ferarri', 'Mustang')"
   ]
  },
  {
   "cell_type": "code",
   "execution_count": 54,
   "id": "341b365f-76c8-4fb7-85f3-dc12fafadcf7",
   "metadata": {},
   "outputs": [
    {
     "name": "stdout",
     "output_type": "stream",
     "text": [
      "Hooray!\n"
     ]
    }
   ],
   "source": [
    "#Q17: I've been tweaking and eperienting the code and it works no matter what. So maybe since the if statement isn't checking for anything it computes\n",
    "#correctly.\n",
    "some_list = ['fizz','buzz',1,'key','value']\n",
    "\n",
    "if some_list:\n",
    "    print('Hooray!')"
   ]
  },
  {
   "cell_type": "code",
   "execution_count": 30,
   "id": "6cb37be8-c0d3-4163-86f6-2d5360ee0984",
   "metadata": {},
   "outputs": [
    {
     "name": "stdout",
     "output_type": "stream",
     "text": [
      "256\n"
     ]
    }
   ],
   "source": [
    "#Q18: \n",
    "x = 2\n",
    "y = 8\n",
    "print(x ** y)"
   ]
  },
  {
   "cell_type": "code",
   "execution_count": 32,
   "id": "6d35ac87-9f08-476d-8524-0dc4774a43a1",
   "metadata": {},
   "outputs": [
    {
     "data": {
      "text/plain": [
       "'65'"
      ]
     },
     "execution_count": 32,
     "metadata": {},
     "output_type": "execute_result"
    }
   ],
   "source": [
    "#Q19: You can use the str() function. \n",
    "my_var = 65\n",
    "str(my_var)"
   ]
  },
  {
   "cell_type": "code",
   "execution_count": 35,
   "id": "8f0c71d3-f096-49ad-99e8-dca32ae56e93",
   "metadata": {},
   "outputs": [
    {
     "name": "stdout",
     "output_type": "stream",
     "text": [
      "quarter to eight\n"
     ]
    }
   ],
   "source": [
    "#Q20: \n",
    "some_string = \"I have got a date at a quarter to eight; I'll see you at the gate, so don't be late\"\n",
    "print(some_string[23:39])"
   ]
  },
  {
   "cell_type": "code",
   "execution_count": 48,
   "id": "0de6b2d0-d515-45eb-9b03-6583be70795c",
   "metadata": {},
   "outputs": [
    {
     "name": "stdout",
     "output_type": "stream",
     "text": [
      "Blues\n"
     ]
    }
   ],
   "source": [
    "#Q21:\n",
    "my_favorite_teams = ['Chiefs', 'Cardinals', 'Blues', 'Billikens','Battlehawks', 'No sports ball for me']\n",
    "sport = my_favorite_teams[2]\n",
    "print(sport)"
   ]
  },
  {
   "cell_type": "code",
   "execution_count": null,
   "id": "204afc5a-3175-4969-8559-05119168860c",
   "metadata": {},
   "outputs": [],
   "source": [
    "#Q22: The dir() function returns all the properties of the object without its values. "
   ]
  },
  {
   "cell_type": "code",
   "execution_count": 42,
   "id": "03c4688e-34ed-4164-8ea2-f210738a49f9",
   "metadata": {},
   "outputs": [
    {
     "name": "stdout",
     "output_type": "stream",
     "text": [
      "274625\n"
     ]
    }
   ],
   "source": [
    "#Q23: \n",
    "x = 65\n",
    "y = 3\n",
    "print(x ** y)"
   ]
  }
 ],
 "metadata": {
  "kernelspec": {
   "display_name": "Python 3 (ipykernel)",
   "language": "python",
   "name": "python3"
  },
  "language_info": {
   "codemirror_mode": {
    "name": "ipython",
    "version": 3
   },
   "file_extension": ".py",
   "mimetype": "text/x-python",
   "name": "python",
   "nbconvert_exporter": "python",
   "pygments_lexer": "ipython3",
   "version": "3.9.1"
  }
 },
 "nbformat": 4,
 "nbformat_minor": 5
}
