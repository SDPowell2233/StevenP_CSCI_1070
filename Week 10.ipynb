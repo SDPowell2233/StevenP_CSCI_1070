{
 "cells": [
  {
   "cell_type": "markdown",
   "id": "4df841f5-f118-492a-b95e-1fb5b690f9bd",
   "metadata": {},
   "source": [
    "Bagging: A model that iterates through models parralel and combines at the end for determining the model's average.\n",
    "\n",
    "Boosting: A model that iterates sequentially then grows to adapt to other models through the process. "
   ]
  },
  {
   "cell_type": "code",
   "execution_count": 15,
   "id": "e5a5e87a-b1c5-44c1-8899-81f4511702e3",
   "metadata": {},
   "outputs": [],
   "source": [
    "a = [5, 10, 15, 20]\n",
    "\n",
    "def swap_pos(fp:int, sp:int, lm:list):\n",
    "    \"\"\"\n",
    "    Swaps the position of the list. 10, 20, 30, 40 turns to 10, 30, 20, 40\n",
    "    \"\"\"\n",
    "    lm[fp], lm[sp] = lm[sp], lm[fp]\n",
    "    return lm\n"
   ]
  },
  {
   "cell_type": "code",
   "execution_count": 16,
   "id": "5466c92f-e67a-4686-8c38-0bf4e2f35d8d",
   "metadata": {},
   "outputs": [
    {
     "data": {
      "text/plain": [
       "[5, 15, 10, 20]"
      ]
     },
     "execution_count": 16,
     "metadata": {},
     "output_type": "execute_result"
    }
   ],
   "source": [
    "swap_pos(1, 2, a)"
   ]
  },
  {
   "cell_type": "markdown",
   "id": "f81fd5f4-e6a0-450c-8e13-d9cc2ea6c7fd",
   "metadata": {},
   "source": [
    "ROC: Recieving Operating Characteristic Curve. Show the performance of a model at all thresholds.Calculates tpr and fpr.  \n",
    "\n",
    "AOC: Area under the curve, compares with the ROC curve. Measures under the ROC curve, also used to measure performance. "
   ]
  },
  {
   "cell_type": "markdown",
   "id": "f00f80e8-1e99-4343-a109-325313eb6d15",
   "metadata": {},
   "source": [
    "Unsupervised Learning: Finding patterns in unlabeled data.\n",
    "Main approaches come to Clustering (K-means, Hierachchical, grid based) and Dimensional Reduction (linear and non-linear)"
   ]
  },
  {
   "cell_type": "markdown",
   "id": "ce8141d4-ee8b-4b57-83bb-8825c0c765f4",
   "metadata": {},
   "source": [
    "Clustering: A process that looks for inherent groupings within data. K-means randomly assigns a mean value for each of the K clusters. \n",
    "Then all the vaules are assigned to the closetn mean. Finally, the means of theose clusters are recalculated based on the actual valuesm and \n",
    "the process repeats until this mean is closest to the mean of the vaules in the cluster. "
   ]
  },
  {
   "cell_type": "markdown",
   "id": "66eafd2b-3812-4ee5-99b5-87311a3e50eb",
   "metadata": {},
   "source": [
    "Heirachical takes a tree based approach and groups items based on proximity."
   ]
  },
  {
   "cell_type": "code",
   "execution_count": null,
   "id": "3051334e-b46b-427d-8f7d-a2f42096d0e2",
   "metadata": {},
   "outputs": [],
   "source": []
  }
 ],
 "metadata": {
  "kernelspec": {
   "display_name": "Python 3 (ipykernel)",
   "language": "python",
   "name": "python3"
  },
  "language_info": {
   "codemirror_mode": {
    "name": "ipython",
    "version": 3
   },
   "file_extension": ".py",
   "mimetype": "text/x-python",
   "name": "python",
   "nbconvert_exporter": "python",
   "pygments_lexer": "ipython3",
   "version": "3.9.1"
  }
 },
 "nbformat": 4,
 "nbformat_minor": 5
}
