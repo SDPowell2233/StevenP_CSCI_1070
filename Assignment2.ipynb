{
 "cells": [
  {
   "cell_type": "code",
   "execution_count": 15,
   "id": "d5e70aff-d258-4163-be09-33f79f136d0c",
   "metadata": {},
   "outputs": [
    {
     "data": {
      "text/plain": [
       "'My computer has gone crazy and added extra symbols.'"
      ]
     },
     "execution_count": 15,
     "metadata": {},
     "output_type": "execute_result"
    }
   ],
   "source": [
    "#Q1: Loop through the string and eliminate all the asterisks.\n",
    "asterisk = 'My* compu*ter has go*ne craz***y an*d add*ed extra *symbols.*'\n",
    "asterisk.replace(\"*\",\"\")"
   ]
  },
  {
   "cell_type": "code",
   "execution_count": 16,
   "id": "469af78e-f66b-4084-8b81-851bb6f0fdc4",
   "metadata": {},
   "outputs": [
    {
     "name": "stdout",
     "output_type": "stream",
     "text": [
      "1\n",
      "2\n",
      "3\n",
      "4\n",
      "5\n",
      "6\n",
      "7\n"
     ]
    }
   ],
   "source": [
    "#Q2: Write a while loop that increments counter until it reaches 7.\n",
    "counter = 0\n",
    "for counter in range(1,8):\n",
    "\t    print(counter)"
   ]
  },
  {
   "cell_type": "code",
   "execution_count": 18,
   "id": "94bc108b-7e3e-4db4-9710-0e568ffaeb3c",
   "metadata": {},
   "outputs": [
    {
     "name": "stdout",
     "output_type": "stream",
     "text": [
      "14\n"
     ]
    }
   ],
   "source": [
    "#Q3:Create a function that takes in two numbers. If the numbers are both even add them and return the result.\n",
    "#   If the numbers are odd, subtract the second number from the first and return the result.\n",
    "def x(num1, num2):\n",
    "    if num1 % 2 == 0 and num2 % 2 == 0:\n",
    "        return num1 + num2\n",
    "    elif num1 % 2 != 0 and num2 % 2 != 0:\n",
    "        return num1 - num2\n",
    "    else:\n",
    "        return \"The numbers are not both even or both odd.\"\n",
    "\n",
    "result = x(4, 10)  \n",
    "\n",
    "print(result)  \n",
    "\n"
   ]
  },
  {
   "cell_type": "code",
   "execution_count": 22,
   "id": "7e021995-2565-4127-9fd3-491904492a15",
   "metadata": {},
   "outputs": [
    {
     "name": "stdout",
     "output_type": "stream",
     "text": [
      "*****\n",
      "****\n",
      "***\n",
      "**\n",
      "*\n"
     ]
    }
   ],
   "source": [
    "#Q4:Create a function that prints a triangle of asterisks as below. The function accepts n as an integer and makes the longest leg of the triangle \n",
    "#   that length, decrementing by one until you close the triangle. The function also accepts a direction for the triangle as a variable. \n",
    "def triangle(n, direction=\"up\"):\n",
    "    if direction == \"up\":\n",
    "        for i in range(1, n + 1):\n",
    "            print('*' * i)\n",
    "    elif direction == \"down\":\n",
    "        for i in range(n, 0, -1):\n",
    "            print('*' * i)\n",
    "    else:\n",
    "        print(\"Invalid direction. Use 'up' or 'down'.\")\n",
    "\n",
    "# Example usage:\n",
    "triangle(5, \"down\")\n",
    "    "
   ]
  },
  {
   "cell_type": "code",
   "execution_count": 32,
   "id": "6407c152-99be-4091-96fb-ca395c6bbce4",
   "metadata": {},
   "outputs": [
    {
     "name": "stdout",
     "output_type": "stream",
     "text": [
      "a = 8, b = 8, c = 8, d = 2 for the letter z\n"
     ]
    }
   ],
   "source": [
    "#Q5:Create a function that accepts a letter. Variables a, b, c, and d all start with a value of 0 and can each have a max value of 8.\n",
    "def letter_to_number(letter):\n",
    "    if not isinstance(letter, str) or len(letter) != 1 or not letter.isalpha():\n",
    "        return \"Input must be one letter.\"\n",
    "\n",
    "    letter = letter.lower()\n",
    "\n",
    "    position = ord(letter) - ord('a') + 1\n",
    "\n",
    "    a = b = c = d = 0\n",
    "\n",
    "    if position <= 8:\n",
    "        a = position\n",
    "    elif position <= 16:\n",
    "        a = 8\n",
    "        b = position - 8\n",
    "    elif position <= 24:\n",
    "        a = 8\n",
    "        b = 8\n",
    "        c = position - 16\n",
    "    else:\n",
    "        a = 8\n",
    "        b = 8\n",
    "        c = 8\n",
    "        d = position - 24\n",
    "\n",
    "    return f\"a = {a}, b = {b}, c = {c}, d = {d} for the letter {letter}\"\n",
    "\n",
    "print(letter_to_number('z'))"
   ]
  },
  {
   "cell_type": "code",
   "execution_count": 59,
   "id": "fdd56c5e-4cb6-485a-88a1-e277553d6be8",
   "metadata": {},
   "outputs": [
    {
     "name": "stdout",
     "output_type": "stream",
     "text": [
      "Plumber\n"
     ]
    }
   ],
   "source": [
    "#Q6:Add an attribute called age to the __init__ method of the Person class.\n",
    "#   Create an instance of Person() and print the age.\n",
    "\n",
    "class Person():\n",
    "    \n",
    "    def __init__(self, name, occupation, country):\n",
    "        self.name = name\n",
    "        self.occupation = occupation\n",
    "        self.country = country\n",
    "        \n",
    "Person = Person(\"Janice\", \"Plumber\", \"US\")\n",
    "\n",
    "print(Person.occupation)"
   ]
  },
  {
   "cell_type": "code",
   "execution_count": 60,
   "id": "72cccd52-ff7d-469a-bf9b-2ac438cf7e33",
   "metadata": {},
   "outputs": [
    {
     "name": "stdout",
     "output_type": "stream",
     "text": [
      "Meryl Streep: This is my line...\n"
     ]
    }
   ],
   "source": [
    "#Q7a:Add a static method of your choice to the class below.\n",
    "#   Instantiate an object and call your method.\n",
    "class actress():\n",
    "    def __init__(self, name = 'Meryl Streep'):\n",
    "        self.name = name\n",
    "        \n",
    "    def act(self, line):\n",
    "        print(f'{self.name}: {line}')\n",
    "        \n",
    "\n",
    "        \n",
    "meryl = actress()\n",
    "meryl.act('This is my line...')\n",
    "\n",
    "#Q7b What is a static method?\n",
    "# Static methods are similar to classes in that they're bound to something, but a static method is bound to the class, instead of the objects \n",
    "# inside the class. "
   ]
  },
  {
   "cell_type": "code",
   "execution_count": 71,
   "id": "224c6189-eee9-468c-918b-b03a7102fd9c",
   "metadata": {},
   "outputs": [
    {
     "name": "stdout",
     "output_type": "stream",
     "text": [
      "[6, 2, 1, 5, 4, 1]\n"
     ]
    }
   ],
   "source": [
    "#Q8:Create a class called Dice that accepts a single argument called number_of_dice. Create an instance method called roll.\n",
    "\n",
    "import random\n",
    "\n",
    "class Dice:\n",
    "    def __init__(self, nod):\n",
    "        self.nod = nod\n",
    "\n",
    "    def roll(self):\n",
    "        results = [random.randint(1, 7) for _ in range(self.nod)]\n",
    "        print(results)\n",
    "\n",
    "r = Dice(6)\n",
    "\n",
    "r.roll()"
   ]
  }
 ],
 "metadata": {
  "kernelspec": {
   "display_name": "Python 3 (ipykernel)",
   "language": "python",
   "name": "python3"
  },
  "language_info": {
   "codemirror_mode": {
    "name": "ipython",
    "version": 3
   },
   "file_extension": ".py",
   "mimetype": "text/x-python",
   "name": "python",
   "nbconvert_exporter": "python",
   "pygments_lexer": "ipython3",
   "version": "3.9.1"
  }
 },
 "nbformat": 4,
 "nbformat_minor": 5
}
