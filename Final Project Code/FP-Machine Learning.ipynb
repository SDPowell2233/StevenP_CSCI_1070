{
 "cells": [
  {
   "cell_type": "code",
   "execution_count": 1,
   "id": "27d624c5-a07f-4e23-aa78-e77da1154487",
   "metadata": {},
   "outputs": [],
   "source": [
    "import pandas as pd\n",
    "import numpy as np\n",
    "import math\n",
    "import statistics\n",
    "from scipy import stats\n",
    "import matplotlib.pyplot as plt\n",
    "from sklearn.model_selection import train_test_split\n",
    "from sklearn.linear_model import LinearRegression\n",
    "from sklearn.metrics import r2_score\n",
    "from sklearn.neighbors import KNeighborsClassifier\n",
    "from sklearn.linear_model import LogisticRegression\n",
    "from sklearn.preprocessing import StandardScaler\n",
    "from sklearn.metrics import confusion_matrix\n",
    "from sklearn.metrics import ConfusionMatrixDisplay, classification_report\n",
    "from sklearn import tree\n",
    "from sklearn.ensemble import RandomForestClassifier\n",
    "from xgboost import XGBClassifier\n",
    "from sklearn.metrics import roc_curve, roc_auc_score\n",
    "from sklearn.metrics import precision_recall_curve, f1_score, auc"
   ]
  },
  {
   "cell_type": "code",
   "execution_count": 39,
   "id": "2df83c01-a43f-44f9-927e-d494d1b0b363",
   "metadata": {},
   "outputs": [],
   "source": [
    "dfx = pd.read_csv(\"Apartment_Factors.csv\")\n",
    "dfy = pd.read_csv(\"Pets Allowed1.csv\")\n",
    "dfy2 = pd.read_csv(\"Pets Allowed2.csv\")\n"
   ]
  },
  {
   "cell_type": "code",
   "execution_count": 40,
   "id": "56cdc8f7-09cb-4a99-9c75-4b52816dcd76",
   "metadata": {},
   "outputs": [
    {
     "data": {
      "text/plain": [
       "Pets Allowed\n",
       "Cats,Dogs          5228\n",
       "No Pets Allowed    4163\n",
       "Cats                485\n",
       "Dogs                124\n",
       "Name: count, dtype: int64"
      ]
     },
     "execution_count": 40,
     "metadata": {},
     "output_type": "execute_result"
    }
   ],
   "source": [
    "dfy['Pets Allowed'].value_counts()"
   ]
  },
  {
   "cell_type": "code",
   "execution_count": 41,
   "id": "68e02a09-7dd5-4982-8fcd-c963ccec2a7a",
   "metadata": {},
   "outputs": [
    {
     "data": {
      "text/plain": [
       "Pets Allowed\n",
       "Yes    5837\n",
       "No     4163\n",
       "Name: count, dtype: int64"
      ]
     },
     "execution_count": 41,
     "metadata": {},
     "output_type": "execute_result"
    }
   ],
   "source": [
    "dfy2['Pets Allowed'].value_counts()"
   ]
  },
  {
   "cell_type": "code",
   "execution_count": 42,
   "id": "7f2d4c17-acba-4a18-aba7-866bc7cddf9c",
   "metadata": {},
   "outputs": [
    {
     "data": {
      "text/html": [
       "<div>\n",
       "<style scoped>\n",
       "    .dataframe tbody tr th:only-of-type {\n",
       "        vertical-align: middle;\n",
       "    }\n",
       "\n",
       "    .dataframe tbody tr th {\n",
       "        vertical-align: top;\n",
       "    }\n",
       "\n",
       "    .dataframe thead th {\n",
       "        text-align: right;\n",
       "    }\n",
       "</style>\n",
       "<table border=\"1\" class=\"dataframe\">\n",
       "  <thead>\n",
       "    <tr style=\"text-align: right;\">\n",
       "      <th></th>\n",
       "      <th>Pets Allowed</th>\n",
       "    </tr>\n",
       "  </thead>\n",
       "  <tbody>\n",
       "    <tr>\n",
       "      <th>0</th>\n",
       "      <td>No</td>\n",
       "    </tr>\n",
       "    <tr>\n",
       "      <th>1</th>\n",
       "      <td>No</td>\n",
       "    </tr>\n",
       "    <tr>\n",
       "      <th>2</th>\n",
       "      <td>No</td>\n",
       "    </tr>\n",
       "    <tr>\n",
       "      <th>3</th>\n",
       "      <td>No</td>\n",
       "    </tr>\n",
       "    <tr>\n",
       "      <th>4</th>\n",
       "      <td>No</td>\n",
       "    </tr>\n",
       "  </tbody>\n",
       "</table>\n",
       "</div>"
      ],
      "text/plain": [
       "  Pets Allowed\n",
       "0           No\n",
       "1           No\n",
       "2           No\n",
       "3           No\n",
       "4           No"
      ]
     },
     "execution_count": 42,
     "metadata": {},
     "output_type": "execute_result"
    }
   ],
   "source": [
    "dfy2.head()"
   ]
  },
  {
   "cell_type": "code",
   "execution_count": 43,
   "id": "ff33979b-54e3-4bdb-95cb-f86b4deba2bb",
   "metadata": {},
   "outputs": [],
   "source": [
    "X = dfx\n",
    "y = dfy['Pets Allowed']\n",
    "\n",
    "X_train, X_test, y_train, y_test = train_test_split(X, y, test_size = 0.2, \n",
    "                                                    random_state=42, \n",
    "                                                    stratify=y)\n",
    "sc = StandardScaler()\n",
    "X_train = sc.fit_transform(X_train)\n",
    "X_test = sc.fit_transform(X_test)"
   ]
  },
  {
   "cell_type": "code",
   "execution_count": 44,
   "id": "3b053a67-70c7-4672-8a4c-4b0e9bdef68f",
   "metadata": {},
   "outputs": [],
   "source": [
    "regression = LogisticRegression(random_state=42).fit(X_train, y_train)\n",
    "y_predicted = regression.predict(X_test)"
   ]
  },
  {
   "cell_type": "code",
   "execution_count": 45,
   "id": "9097aace-9dfd-4d9d-9739-c9e986134e84",
   "metadata": {},
   "outputs": [
    {
     "data": {
      "text/plain": [
       "array(['Cats,Dogs', 'Cats,Dogs', 'Cats,Dogs', ..., 'Cats,Dogs',\n",
       "       'Cats,Dogs', 'Cats,Dogs'], dtype=object)"
      ]
     },
     "execution_count": 45,
     "metadata": {},
     "output_type": "execute_result"
    }
   ],
   "source": [
    "y_predicted"
   ]
  },
  {
   "cell_type": "code",
   "execution_count": 46,
   "id": "595af12e-167d-4405-bbe0-0f911ff663f7",
   "metadata": {},
   "outputs": [
    {
     "data": {
      "text/plain": [
       "0.528"
      ]
     },
     "execution_count": 46,
     "metadata": {},
     "output_type": "execute_result"
    }
   ],
   "source": [
    "regression.score(X_test, y_test)"
   ]
  },
  {
   "cell_type": "code",
   "execution_count": 47,
   "id": "694baa7b-f6b6-47aa-90c6-b3d62db0ced3",
   "metadata": {},
   "outputs": [
    {
     "name": "stdout",
     "output_type": "stream",
     "text": [
      "Requirement already satisfied: statsmodels in c:\\users\\steven\\appdata\\local\\programs\\python\\python39\\lib\\site-packages (0.14.4)\n",
      "Requirement already satisfied: numpy<3,>=1.22.3 in c:\\users\\steven\\appdata\\local\\programs\\python\\python39\\lib\\site-packages (from statsmodels) (2.0.2)\n",
      "Requirement already satisfied: scipy!=1.9.2,>=1.8 in c:\\users\\steven\\appdata\\local\\programs\\python\\python39\\lib\\site-packages (from statsmodels) (1.13.1)\n",
      "Requirement already satisfied: pandas!=2.1.0,>=1.4 in c:\\users\\steven\\appdata\\local\\programs\\python\\python39\\lib\\site-packages (from statsmodels) (2.2.2)\n",
      "Requirement already satisfied: patsy>=0.5.6 in c:\\users\\steven\\appdata\\local\\programs\\python\\python39\\lib\\site-packages (from statsmodels) (1.0.1)\n",
      "Requirement already satisfied: packaging>=21.3 in c:\\users\\steven\\appdata\\local\\programs\\python\\python39\\lib\\site-packages (from statsmodels) (24.1)\n",
      "Requirement already satisfied: python-dateutil>=2.8.2 in c:\\users\\steven\\appdata\\local\\programs\\python\\python39\\lib\\site-packages (from pandas!=2.1.0,>=1.4->statsmodels) (2.9.0.post0)\n",
      "Requirement already satisfied: pytz>=2020.1 in c:\\users\\steven\\appdata\\local\\programs\\python\\python39\\lib\\site-packages (from pandas!=2.1.0,>=1.4->statsmodels) (2024.1)\n",
      "Requirement already satisfied: tzdata>=2022.7 in c:\\users\\steven\\appdata\\local\\programs\\python\\python39\\lib\\site-packages (from pandas!=2.1.0,>=1.4->statsmodels) (2024.1)\n",
      "Requirement already satisfied: six>=1.5 in c:\\users\\steven\\appdata\\local\\programs\\python\\python39\\lib\\site-packages (from python-dateutil>=2.8.2->pandas!=2.1.0,>=1.4->statsmodels) (1.16.0)\n",
      "Note: you may need to restart the kernel to use updated packages.\n"
     ]
    },
    {
     "name": "stderr",
     "output_type": "stream",
     "text": [
      "\n",
      "[notice] A new release of pip is available: 24.2 -> 24.3.1\n",
      "[notice] To update, run: python.exe -m pip install --upgrade pip\n"
     ]
    }
   ],
   "source": [
    "%pip install statsmodels"
   ]
  },
  {
   "cell_type": "code",
   "execution_count": 48,
   "id": "a8abbc50-e27e-41a0-adc2-9f8d1a07cbba",
   "metadata": {},
   "outputs": [
    {
     "data": {
      "text/plain": [
       "(<Figure size 640x480 with 3 Axes>,\n",
       " {('0', '0'): (0.0, np.float64(0.0), 0.04778325123152709, np.float64(0.0)),\n",
       "  ('0', '1'): (0.0,\n",
       "   np.float64(0.0033003300330033004),\n",
       "   0.04778325123152709,\n",
       "   np.float64(0.7859548841482086)),\n",
       "  ('0', '2'): (0.0,\n",
       "   np.float64(0.7925555442142153),\n",
       "   0.04778325123152709,\n",
       "   np.float64(0.0)),\n",
       "  ('0', '3'): (0.0,\n",
       "   np.float64(0.7958558742472185),\n",
       "   0.04778325123152709,\n",
       "   np.float64(0.2041441257527815)),\n",
       "  ('1', '0'): (0.052709359605911325,\n",
       "   np.float64(0.0),\n",
       "   0.5147783251231526,\n",
       "   np.float64(0.0)),\n",
       "  ('1', '1'): (0.052709359605911325,\n",
       "   np.float64(0.0033003300330033004),\n",
       "   0.5147783251231526,\n",
       "   np.float64(0.7295466388744137)),\n",
       "  ('1', '2'): (0.052709359605911325,\n",
       "   np.float64(0.7361472989404203),\n",
       "   0.5147783251231526,\n",
       "   np.float64(0.0)),\n",
       "  ('1', '3'): (0.052709359605911325,\n",
       "   np.float64(0.7394476289734236),\n",
       "   0.5147783251231526,\n",
       "   np.float64(0.26055237102657636)),\n",
       "  ('2', '0'): (0.5724137931034482,\n",
       "   np.float64(0.0),\n",
       "   0.012315270935960656,\n",
       "   np.float64(0.0)),\n",
       "  ('2', '1'): (0.5724137931034482,\n",
       "   np.float64(0.0033003300330033004),\n",
       "   0.012315270935960656,\n",
       "   np.float64(0.6336633663366337)),\n",
       "  ('2', '2'): (0.5724137931034482,\n",
       "   np.float64(0.6402640264026404),\n",
       "   0.012315270935960656,\n",
       "   np.float64(0.0)),\n",
       "  ('2', '3'): (0.5724137931034482,\n",
       "   np.float64(0.6435643564356436),\n",
       "   0.012315270935960656,\n",
       "   np.float64(0.3564356435643564)),\n",
       "  ('3', '0'): (0.5896551724137931,\n",
       "   np.float64(0.0),\n",
       "   0.41034482758620683,\n",
       "   np.float64(0.0)),\n",
       "  ('3', '1'): (0.5896551724137931,\n",
       "   np.float64(0.0033003300330033004),\n",
       "   0.41034482758620683,\n",
       "   np.float64(0.6454066775224941)),\n",
       "  ('3', '2'): (0.5896551724137931,\n",
       "   np.float64(0.6520073375885008),\n",
       "   0.41034482758620683,\n",
       "   np.float64(0.004754376998324081)),\n",
       "  ('3', '3'): (0.5896551724137931,\n",
       "   np.float64(0.6600620446198282),\n",
       "   0.41034482758620683,\n",
       "   np.float64(0.33993795538017185))})"
      ]
     },
     "execution_count": 48,
     "metadata": {},
     "output_type": "execute_result"
    },
    {
     "data": {
      "image/png": "[encoded data removed]",
      "text/plain": [
       "<Figure size 640x480 with 3 Axes>"
      ]
     },
     "metadata": {},
     "output_type": "display_data"
    }
   ],
   "source": [
    "from sklearn.metrics import confusion_matrix\n",
    "from statsmodels.graphics.mosaicplot import mosaic\n",
    "from sklearn.metrics import ConfusionMatrixDisplay\n",
    "conf_matrix = confusion_matrix(y_test, y_predicted)\n",
    "mosaic(conf_matrix)"
   ]
  },
  {
   "cell_type": "code",
   "execution_count": 54,
   "id": "8579cbd9-cb87-4a99-be3f-cef98c224bc3",
   "metadata": {},
   "outputs": [
    {
     "data": {
      "text/plain": [
       "<sklearn.metrics._plot.confusion_matrix.ConfusionMatrixDisplay at 0x2d462f8c580>"
      ]
     },
     "execution_count": 54,
     "metadata": {},
     "output_type": "execute_result"
    },
    {
     "data": {
      "image/png": "[encoded data removed]",
      "text/plain": [
       "<Figure size 640x480 with 2 Axes>"
      ]
     },
     "metadata": {},
     "output_type": "display_data"
    }
   ],
   "source": [
    "ConfusionMatrixDisplay.from_estimator(regression, X_test, y_test)"
   ]
  },
  {
   "cell_type": "code",
   "execution_count": 56,
   "id": "d99cec66-91cd-4f72-8f73-4ec1622fefa8",
   "metadata": {},
   "outputs": [],
   "source": [
    "X = dfx\n",
    "y = dfy2['Pets Allowed']\n",
    "\n",
    "X_train, X_test, y_train, y_test = train_test_split(X, y, test_size = 0.2, \n",
    "                                                    random_state=42, \n",
    "                                                    stratify=y)\n",
    "sc = StandardScaler()\n",
    "X_train = sc.fit_transform(X_train)\n",
    "X_test = sc.fit_transform(X_test)"
   ]
  },
  {
   "cell_type": "code",
   "execution_count": 57,
   "id": "e96cbaa6-2233-45e1-818e-f0338efbc183",
   "metadata": {},
   "outputs": [],
   "source": [
    "regression = LogisticRegression(random_state=42).fit(X_train, y_train)\n",
    "y_predicted = regression.predict(X_test)"
   ]
  },
  {
   "cell_type": "code",
   "execution_count": 58,
   "id": "22c39ac7-2084-433c-a023-dbd50866cbdf",
   "metadata": {},
   "outputs": [
    {
     "data": {
      "text/plain": [
       "array(['Yes', 'Yes', 'Yes', ..., 'No', 'No', 'Yes'], dtype=object)"
      ]
     },
     "execution_count": 58,
     "metadata": {},
     "output_type": "execute_result"
    }
   ],
   "source": [
    "y_predicted"
   ]
  },
  {
   "cell_type": "code",
   "execution_count": 59,
   "id": "539dbfc3-6786-4c0f-bae9-f1a93f47d95c",
   "metadata": {},
   "outputs": [
    {
     "data": {
      "text/plain": [
       "0.572"
      ]
     },
     "execution_count": 59,
     "metadata": {},
     "output_type": "execute_result"
    }
   ],
   "source": [
    "regression.score(X_test, y_test)"
   ]
  },
  {
   "cell_type": "code",
   "execution_count": 60,
   "id": "1d6137aa-4c2e-44bf-ae4a-e20b12256684",
   "metadata": {},
   "outputs": [
    {
     "data": {
      "text/plain": [
       "(<Figure size 640x480 with 3 Axes>,\n",
       " {('0', '0'): (0.0,\n",
       "   np.float64(0.0),\n",
       "   0.41442786069651744,\n",
       "   np.float64(0.24767382035870825)),\n",
       "  ('0', '1'): (0.0,\n",
       "   np.float64(0.25099607949492087),\n",
       "   0.41442786069651744,\n",
       "   np.float64(0.749003920505079)),\n",
       "  ('1', '0'): (0.4194029850746269,\n",
       "   np.float64(0.0),\n",
       "   0.5805970149253732,\n",
       "   np.float64(0.19643177412054078)),\n",
       "  ('1', '1'): (0.4194029850746269,\n",
       "   np.float64(0.1997540332567534),\n",
       "   0.5805970149253732,\n",
       "   np.float64(0.8002459667432466))})"
      ]
     },
     "execution_count": 60,
     "metadata": {},
     "output_type": "execute_result"
    },
    {
     "data": {
      "image/png": "[encoded data removed]",
      "text/plain": [
       "<Figure size 640x480 with 3 Axes>"
      ]
     },
     "metadata": {},
     "output_type": "display_data"
    }
   ],
   "source": [
    "from sklearn.metrics import confusion_matrix\n",
    "from statsmodels.graphics.mosaicplot import mosaic\n",
    "from sklearn.metrics import ConfusionMatrixDisplay\n",
    "conf_matrix = confusion_matrix(y_test, y_predicted)\n",
    "mosaic(conf_matrix)"
   ]
  },
  {
   "cell_type": "code",
   "execution_count": 61,
   "id": "a9e674c7-f0ac-4999-87cf-932c0aacd925",
   "metadata": {},
   "outputs": [
    {
     "data": {
      "text/plain": [
       "<sklearn.metrics._plot.confusion_matrix.ConfusionMatrixDisplay at 0x2d465513610>"
      ]
     },
     "execution_count": 61,
     "metadata": {},
     "output_type": "execute_result"
    },
    {
     "data": {
      "image/png": "[encoded data removed]",
      "text/plain": [
       "<Figure size 640x480 with 2 Axes>"
      ]
     },
     "metadata": {},
     "output_type": "display_data"
    }
   ],
   "source": [
    "ConfusionMatrixDisplay.from_estimator(regression, X_test, y_test)"
   ]
  },
  {
   "cell_type": "code",
   "execution_count": null,
   "id": "d4d3e9fe-2dd3-48b7-ad32-ff4b75f3807e",
   "metadata": {},
   "outputs": [],
   "source": []
  },
  {
   "cell_type": "code",
   "execution_count": null,
   "id": "1ddc0996-6f00-4a91-8e1e-86ddfbb3cfa9",
   "metadata": {},
   "outputs": [],
   "source": []
  }
 ],
 "metadata": {
  "kernelspec": {
   "display_name": "Python 3 (ipykernel)",
   "language": "python",
   "name": "python3"
  },
  "language_info": {
   "codemirror_mode": {
    "name": "ipython",
    "version": 3
   },
   "file_extension": ".py",
   "mimetype": "text/x-python",
   "name": "python",
   "nbconvert_exporter": "python",
   "pygments_lexer": "ipython3",
   "version": "3.9.1"
  }
 },
 "nbformat": 4,
 "nbformat_minor": 5
}
