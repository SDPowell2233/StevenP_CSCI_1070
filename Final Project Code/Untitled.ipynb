{
 "cells": [
  {
   "cell_type": "code",
   "execution_count": 1,
   "id": "e3d87541-acbf-4b58-ae62-de6e7821f426",
   "metadata": {},
   "outputs": [],
   "source": [
    "import pandas as pd\n",
    "import numpy as np\n",
    "import math\n",
    "import statistics\n",
    "from scipy import stats\n",
    "import matplotlib.pyplot as plt\n",
    "from sklearn.model_selection import train_test_split\n",
    "from sklearn.linear_model import LinearRegression\n",
    "from sklearn.metrics import r2_score\n",
    "from sklearn.neighbors import KNeighborsClassifier\n",
    "from sklearn.linear_model import LogisticRegression\n",
    "from sklearn.preprocessing import StandardScaler\n",
    "from sklearn.metrics import confusion_matrix\n",
    "from sklearn.metrics import ConfusionMatrixDisplay, classification_report\n",
    "from sklearn import tree\n",
    "from sklearn.ensemble import RandomForestClassifier\n",
    "from xgboost import XGBClassifier\n",
    "from sklearn.metrics import roc_curve, roc_auc_score\n",
    "from sklearn.metrics import precision_recall_curve, f1_score, auc"
   ]
  },
  {
   "cell_type": "code",
   "execution_count": 13,
   "id": "9112a116-f4d8-45b9-bb0b-3554ec4212ea",
   "metadata": {},
   "outputs": [],
   "source": [
    "df = pd.read_csv(\"apartments_for_rent_classified_10K.csv\", on_bad_lines='skip', encoding ='cp1252', delimiter=';')"
   ]
  },
  {
   "cell_type": "code",
   "execution_count": 14,
   "id": "8fa75d3e-ed82-48d6-b28b-0d4f5b258bd7",
   "metadata": {},
   "outputs": [],
   "source": [
    "df = df.drop('id', axis=1)\n",
    "df = df.drop('category', axis=1)\n",
    "df = df.drop('title', axis=1)\n",
    "df = df.drop('body', axis=1)\n",
    "df = df.drop('amenities', axis=1)\n",
    "df = df.drop('fee', axis=1)\n",
    "df = df.drop('has_photo', axis=1)\n",
    "df = df.drop('time', axis=1)\n",
    "df = df.drop('source', axis=1)\n",
    "df = df.drop('latitude', axis=1)\n",
    "df = df.drop('longitude', axis=1)\n",
    "df = df.drop('cityname', axis=1)\n",
    "df = df.drop('address', axis=1)\n",
    "df = df.drop('price_type', axis=1)\n",
    "df = df.drop('price_display', axis=1)\n",
    "df = df.drop('currency', axis=1)"
   ]
  },
  {
   "cell_type": "code",
   "execution_count": 4,
   "id": "aff6c394-123a-4c38-9cd5-1adfb62abb0e",
   "metadata": {},
   "outputs": [
    {
     "data": {
      "text/html": [
       "<div>\n",
       "<style scoped>\n",
       "    .dataframe tbody tr th:only-of-type {\n",
       "        vertical-align: middle;\n",
       "    }\n",
       "\n",
       "    .dataframe tbody tr th {\n",
       "        vertical-align: top;\n",
       "    }\n",
       "\n",
       "    .dataframe thead th {\n",
       "        text-align: right;\n",
       "    }\n",
       "</style>\n",
       "<table border=\"1\" class=\"dataframe\">\n",
       "  <thead>\n",
       "    <tr style=\"text-align: right;\">\n",
       "      <th></th>\n",
       "      <th>bathrooms</th>\n",
       "      <th>bedrooms</th>\n",
       "      <th>pets_allowed</th>\n",
       "      <th>price</th>\n",
       "      <th>square_feet</th>\n",
       "      <th>state</th>\n",
       "    </tr>\n",
       "  </thead>\n",
       "  <tbody>\n",
       "    <tr>\n",
       "      <th>0</th>\n",
       "      <td>NaN</td>\n",
       "      <td>0.0</td>\n",
       "      <td>NaN</td>\n",
       "      <td>790</td>\n",
       "      <td>101</td>\n",
       "      <td>DC</td>\n",
       "    </tr>\n",
       "    <tr>\n",
       "      <th>1</th>\n",
       "      <td>NaN</td>\n",
       "      <td>1.0</td>\n",
       "      <td>NaN</td>\n",
       "      <td>425</td>\n",
       "      <td>106</td>\n",
       "      <td>IN</td>\n",
       "    </tr>\n",
       "    <tr>\n",
       "      <th>2</th>\n",
       "      <td>1.0</td>\n",
       "      <td>0.0</td>\n",
       "      <td>NaN</td>\n",
       "      <td>1390</td>\n",
       "      <td>107</td>\n",
       "      <td>VA</td>\n",
       "    </tr>\n",
       "    <tr>\n",
       "      <th>3</th>\n",
       "      <td>1.0</td>\n",
       "      <td>0.0</td>\n",
       "      <td>NaN</td>\n",
       "      <td>925</td>\n",
       "      <td>116</td>\n",
       "      <td>WA</td>\n",
       "    </tr>\n",
       "    <tr>\n",
       "      <th>4</th>\n",
       "      <td>NaN</td>\n",
       "      <td>0.0</td>\n",
       "      <td>NaN</td>\n",
       "      <td>880</td>\n",
       "      <td>125</td>\n",
       "      <td>VA</td>\n",
       "    </tr>\n",
       "  </tbody>\n",
       "</table>\n",
       "</div>"
      ],
      "text/plain": [
       "   bathrooms  bedrooms pets_allowed  price  square_feet state\n",
       "0        NaN       0.0          NaN    790          101    DC\n",
       "1        NaN       1.0          NaN    425          106    IN\n",
       "2        1.0       0.0          NaN   1390          107    VA\n",
       "3        1.0       0.0          NaN    925          116    WA\n",
       "4        NaN       0.0          NaN    880          125    VA"
      ]
     },
     "execution_count": 4,
     "metadata": {},
     "output_type": "execute_result"
    }
   ],
   "source": [
    "df.head()"
   ]
  },
  {
   "cell_type": "code",
   "execution_count": 6,
   "id": "dc131254-3f25-4c87-96ce-7cdbfdaa0db3",
   "metadata": {},
   "outputs": [],
   "source": [
    "dfp = df"
   ]
  },
  {
   "cell_type": "code",
   "execution_count": 7,
   "id": "1a71b88f-ca35-4168-8635-6eff5fc3a516",
   "metadata": {},
   "outputs": [],
   "source": [
    "dfp.to_csv('dfp.csv', index=False)"
   ]
  },
  {
   "cell_type": "code",
   "execution_count": 15,
   "id": "7008081f-3607-4205-ad58-9056ee9490b9",
   "metadata": {},
   "outputs": [],
   "source": [
    "df['pets_allowed'] = df[\"pets_allowed\"].replace(np.nan, 'No Pets Allowed')"
   ]
  },
  {
   "cell_type": "code",
   "execution_count": 16,
   "id": "0d57f9e4-0f73-4335-93ac-4d372d6268eb",
   "metadata": {},
   "outputs": [],
   "source": [
    "df['pets_allowed'] = np.where(df[\"pets_allowed\"] == \"No Pets Allowed\", \"No\", \"Yes\")"
   ]
  },
  {
   "cell_type": "code",
   "execution_count": 17,
   "id": "16055152-98bb-4f5d-9a37-5d735bb2f636",
   "metadata": {},
   "outputs": [],
   "source": [
    "df['bathrooms'] = df['bathrooms'].fillna(1)\n",
    "df['bedrooms'] = df['bedrooms'].fillna(1)"
   ]
  },
  {
   "cell_type": "code",
   "execution_count": 11,
   "id": "c7a64603-a69c-45bd-a5b3-09f3d460772e",
   "metadata": {},
   "outputs": [],
   "source": [
    "bol = {'Yes':1,'No':0}\n",
    "df['pets_allowed'] = df['pets_allowed'].map(bol)"
   ]
  },
  {
   "cell_type": "code",
   "execution_count": 18,
   "id": "aeeb20fb-9173-4499-81a2-bcad201c10d4",
   "metadata": {},
   "outputs": [
    {
     "data": {
      "text/html": [
       "<div>\n",
       "<style scoped>\n",
       "    .dataframe tbody tr th:only-of-type {\n",
       "        vertical-align: middle;\n",
       "    }\n",
       "\n",
       "    .dataframe tbody tr th {\n",
       "        vertical-align: top;\n",
       "    }\n",
       "\n",
       "    .dataframe thead th {\n",
       "        text-align: right;\n",
       "    }\n",
       "</style>\n",
       "<table border=\"1\" class=\"dataframe\">\n",
       "  <thead>\n",
       "    <tr style=\"text-align: right;\">\n",
       "      <th></th>\n",
       "      <th>bathrooms</th>\n",
       "      <th>bedrooms</th>\n",
       "      <th>pets_allowed</th>\n",
       "      <th>price</th>\n",
       "      <th>square_feet</th>\n",
       "      <th>state</th>\n",
       "    </tr>\n",
       "  </thead>\n",
       "  <tbody>\n",
       "    <tr>\n",
       "      <th>0</th>\n",
       "      <td>1.0</td>\n",
       "      <td>0.0</td>\n",
       "      <td>No</td>\n",
       "      <td>790</td>\n",
       "      <td>101</td>\n",
       "      <td>DC</td>\n",
       "    </tr>\n",
       "    <tr>\n",
       "      <th>1</th>\n",
       "      <td>1.0</td>\n",
       "      <td>1.0</td>\n",
       "      <td>No</td>\n",
       "      <td>425</td>\n",
       "      <td>106</td>\n",
       "      <td>IN</td>\n",
       "    </tr>\n",
       "    <tr>\n",
       "      <th>2</th>\n",
       "      <td>1.0</td>\n",
       "      <td>0.0</td>\n",
       "      <td>No</td>\n",
       "      <td>1390</td>\n",
       "      <td>107</td>\n",
       "      <td>VA</td>\n",
       "    </tr>\n",
       "    <tr>\n",
       "      <th>3</th>\n",
       "      <td>1.0</td>\n",
       "      <td>0.0</td>\n",
       "      <td>No</td>\n",
       "      <td>925</td>\n",
       "      <td>116</td>\n",
       "      <td>WA</td>\n",
       "    </tr>\n",
       "    <tr>\n",
       "      <th>4</th>\n",
       "      <td>1.0</td>\n",
       "      <td>0.0</td>\n",
       "      <td>No</td>\n",
       "      <td>880</td>\n",
       "      <td>125</td>\n",
       "      <td>VA</td>\n",
       "    </tr>\n",
       "  </tbody>\n",
       "</table>\n",
       "</div>"
      ],
      "text/plain": [
       "   bathrooms  bedrooms pets_allowed  price  square_feet state\n",
       "0        1.0       0.0           No    790          101    DC\n",
       "1        1.0       1.0           No    425          106    IN\n",
       "2        1.0       0.0           No   1390          107    VA\n",
       "3        1.0       0.0           No    925          116    WA\n",
       "4        1.0       0.0           No    880          125    VA"
      ]
     },
     "execution_count": 18,
     "metadata": {},
     "output_type": "execute_result"
    }
   ],
   "source": [
    "df.head()"
   ]
  },
  {
   "cell_type": "code",
   "execution_count": 19,
   "id": "89fac579-10b6-44d1-ba40-092eb37a7034",
   "metadata": {},
   "outputs": [],
   "source": [
    "df.to_csv('df.csv', index=False)"
   ]
  },
  {
   "cell_type": "code",
   "execution_count": null,
   "id": "3d7ec55b-46ad-44a4-a8d3-1dc4c066f92c",
   "metadata": {},
   "outputs": [],
   "source": []
  }
 ],
 "metadata": {
  "kernelspec": {
   "display_name": "Python 3 (ipykernel)",
   "language": "python",
   "name": "python3"
  },
  "language_info": {
   "codemirror_mode": {
    "name": "ipython",
    "version": 3
   },
   "file_extension": ".py",
   "mimetype": "text/x-python",
   "name": "python",
   "nbconvert_exporter": "python",
   "pygments_lexer": "ipython3",
   "version": "3.9.1"
  }
 },
 "nbformat": 4,
 "nbformat_minor": 5
}
