{
 "cells": [
  {
   "cell_type": "markdown",
   "id": "8c7b345f-bc8e-4353-a1d1-0119eba06b0a",
   "metadata": {},
   "source": [
    "1) Create a function that accepts a list of values. Filter out all values that are numeric and return the new list."
   ]
  },
  {
   "cell_type": "code",
   "execution_count": 1,
   "id": "93312122-70ff-4f65-ac0d-d28c10802c2c",
   "metadata": {},
   "outputs": [
    {
     "name": "stdout",
     "output_type": "stream",
     "text": [
      "['a', 'b']\n",
      "None\n"
     ]
    }
   ],
   "source": [
    "def filter_list(lst):\n",
    "    nl = [x for x in lst if isinstance(x, str)]\n",
    "    print(nl)\n",
    "\n",
    "list1 = [1,2,'a','b',7.6]\n",
    "\n",
    "print(filter_list(list1))"
   ]
  },
  {
   "cell_type": "markdown",
   "id": "69f8b0df-3e92-46c5-9e7d-85526ee24e92",
   "metadata": {},
   "source": [
    "2) Write a clean solution to fizzbuzz that we did in a previous class that uses default arguments, typing, a docstring, and useful comments."
   ]
  },
  {
   "cell_type": "code",
   "execution_count": 2,
   "id": "3209c7c8-a780-478b-8e4a-e0f16a93d7ef",
   "metadata": {},
   "outputs": [
    {
     "name": "stdout",
     "output_type": "stream",
     "text": [
      "1\n",
      "2\n",
      "3 fizz\n",
      "4\n",
      "5 buzz\n",
      "6 fizz\n",
      "7\n",
      "8\n",
      "9 fizz\n",
      "10 buzz\n",
      "11\n",
      "12 fizz\n",
      "13\n",
      "14\n",
      "15 fizzbuzz\n"
     ]
    }
   ],
   "source": [
    "def fizzbar(x: int):\n",
    "    '''\n",
    "    Takes in the number (x) from the user and returns fizz if divisible by 3, buzz if divisible by 5, and both \n",
    "    if divisible by 3 and 5.\n",
    "    '''\n",
    "    for x in range(1, x+1):\n",
    "        if x == 0:\n",
    "            print(\"\")\n",
    "        elif x%3 == 0 and x%5 == 0:\n",
    "            print(x, \"fizzbuzz\")\n",
    "        #fizzbuzz: divisible by 3 and 5\n",
    "        elif x%3 == 0:\n",
    "            print(x, \"fizz\")\n",
    "        #fizz: divisible by 3\n",
    "        elif x%5 == 0:\n",
    "            print(x, \"buzz\")\n",
    "        #buzz: divisble by 5\n",
    "        else:\n",
    "            print(x)\n",
    "        #Else is put in to start the count at 1, instead of 3.\n",
    "\n",
    "fizzbar(15)"
   ]
  }
 ],
 "metadata": {
  "kernelspec": {
   "display_name": "Python 3 (ipykernel)",
   "language": "python",
   "name": "python3"
  },
  "language_info": {
   "codemirror_mode": {
    "name": "ipython",
    "version": 3
   },
   "file_extension": ".py",
   "mimetype": "text/x-python",
   "name": "python",
   "nbconvert_exporter": "python",
   "pygments_lexer": "ipython3",
   "version": "3.9.1"
  }
 },
 "nbformat": 4,
 "nbformat_minor": 5
}
