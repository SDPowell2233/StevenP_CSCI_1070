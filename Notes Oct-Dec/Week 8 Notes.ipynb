{
 "cells": [
  {
   "cell_type": "markdown",
   "id": "9270d361-ff3b-4ced-84ce-5b545edf2d72",
   "metadata": {},
   "source": [
    "10/8/24"
   ]
  },
  {
   "cell_type": "code",
   "execution_count": 1,
   "id": "96d060a0-ece5-4805-b8e8-638bc5187a85",
   "metadata": {},
   "outputs": [],
   "source": [
    "import pandas as pd\n",
    "import numpy as np\n",
    "import math\n",
    "import statistics\n",
    "from scipy import stats\n",
    "import matplotlib.pyplot as plt\n",
    "from sklearn.model_selection import train_test_split\n",
    "from sklearn.linear_model import LinearRegression\n",
    "from sklearn.metrics import r2_score\n",
    "from sklearn.neighbors import KNeighborsClassifier\n",
    "from sklearn.linear_model import LogisticRegression\n",
    "from sklearn.preprocessing import StandardScaler\n",
    "from sklearn.metrics import confusion_matrix\n",
    "from sklearn.metrics import ConfusionMatrixDisplay\n",
    "from ucimlrepo import fetch_ucirepo "
   ]
  },
  {
   "cell_type": "markdown",
   "id": "621ac14a-05f8-4640-a50d-496c6e1fbac4",
   "metadata": {},
   "source": [
    "ACID stands for atomic, consistency, isolation, and durability. Each term refers to the structure of transactions within the database. \n",
    "For example, consistent transactions or durability meaning that even if the transaction fails, the changes are successful. "
   ]
  },
  {
   "cell_type": "markdown",
   "id": "c6c3956e-f14d-46b2-9f65-3e4a97f21e1a",
   "metadata": {},
   "source": [
    "Atomicity-each statement in a transaction (to read, write, update or delete data) is treated as a single unit. Either the entire statement \n",
    "is executed, or none of it is executed.\n",
    "\n",
    "Consistency- ensures that transactions only make changes to tables in predefined, predictable ways. \n",
    "\n",
    "Isolation- when multiple users are reading and writing from the same table all at once, isolation of their transactions ensures that the concurrent transactions don't interfere with or affect one another.\n",
    "\n",
    "Durability- ensures that changes to your data made by successfully executed transactions will be saved, even in the event of system failure."
   ]
  },
  {
   "cell_type": "code",
   "execution_count": null,
   "id": "53a73fd4-df80-4af4-89b3-bd81878a5dfb",
   "metadata": {},
   "outputs": [],
   "source": [
    "# select column_name\n",
    "# from table_name\n",
    "# where (condition) EX. column >= \n",
    "# Limit number;"
   ]
  }
 ],
 "metadata": {
  "kernelspec": {
   "display_name": "Python 3 (ipykernel)",
   "language": "python",
   "name": "python3"
  },
  "language_info": {
   "codemirror_mode": {
    "name": "ipython",
    "version": 3
   },
   "file_extension": ".py",
   "mimetype": "text/x-python",
   "name": "python",
   "nbconvert_exporter": "python",
   "pygments_lexer": "ipython3",
   "version": "3.9.1"
  }
 },
 "nbformat": 4,
 "nbformat_minor": 5
}
